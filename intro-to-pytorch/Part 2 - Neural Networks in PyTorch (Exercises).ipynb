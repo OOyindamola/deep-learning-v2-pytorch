{
  "nbformat": 4,
  "nbformat_minor": 0,
  "metadata": {
    "kernelspec": {
      "display_name": "Python [default]",
      "language": "python",
      "name": "python3"
    },
    "language_info": {
      "codemirror_mode": {
        "name": "ipython",
        "version": 3
      },
      "file_extension": ".py",
      "mimetype": "text/x-python",
      "name": "python",
      "nbconvert_exporter": "python",
      "pygments_lexer": "ipython3",
      "version": "3.6.4"
    },
    "colab": {
      "name": "Part 2 - Neural Networks in PyTorch (Exercises).ipynb",
      "provenance": []
    }
  },
  "cells": [
    {
      "cell_type": "markdown",
      "metadata": {
        "id": "6UTtZeMpGpuy",
        "colab_type": "text"
      },
      "source": [
        "# Neural networks with PyTorch\n",
        "\n",
        "Deep learning networks tend to be massive with dozens or hundreds of layers, that's where the term \"deep\" comes from. You can build one of these deep networks using only weight matrices as we did in the previous notebook, but in general it's very cumbersome and difficult to implement. PyTorch has a nice module `nn` that provides a nice way to efficiently build large neural networks."
      ]
    },
    {
      "cell_type": "code",
      "metadata": {
        "id": "k7vQrNa3Gpu7",
        "colab_type": "code",
        "colab": {}
      },
      "source": [
        "# Import necessary packages\n",
        "\n",
        "%matplotlib inline\n",
        "%config InlineBackend.figure_format = 'retina'\n",
        "\n",
        "import numpy as np\n",
        "import torch\n",
        "\n",
        "import helper\n",
        "\n",
        "import matplotlib.pyplot as plt"
      ],
      "execution_count": 0,
      "outputs": []
    },
    {
      "cell_type": "code",
      "metadata": {
        "id": "Sjoy95yxSFDP",
        "colab_type": "code",
        "colab": {
          "base_uri": "https://localhost:8080/",
          "height": 121
        },
        "outputId": "744013eb-c3f2-4a7b-8fcb-a29776d01b55"
      },
      "source": [
        "!wget -c https://raw.githubusercontent.com/udacity/deep-learning-v2-pytorch/master/intro-to-pytorch/helper.py/"
      ],
      "execution_count": 49,
      "outputs": [
        {
          "output_type": "stream",
          "text": [
            "--2020-02-06 02:16:12--  https://raw.githubusercontent.com/udacity/deep-learning-v2-pytorch/master/intro-to-pytorch/helper.py/\n",
            "Resolving raw.githubusercontent.com (raw.githubusercontent.com)... 151.101.0.133, 151.101.64.133, 151.101.128.133, ...\n",
            "Connecting to raw.githubusercontent.com (raw.githubusercontent.com)|151.101.0.133|:443... connected.\n",
            "HTTP request sent, awaiting response... 400 Bad Request\n",
            "2020-02-06 02:16:12 ERROR 400: Bad Request.\n",
            "\n"
          ],
          "name": "stdout"
        }
      ]
    },
    {
      "cell_type": "markdown",
      "metadata": {
        "id": "BOVqTioLGpvP",
        "colab_type": "text"
      },
      "source": [
        "\n",
        "Now we're going to build a larger network that can solve a (formerly) difficult problem, identifying text in an image. Here we'll use the MNIST dataset which consists of greyscale handwritten digits. Each image is 28x28 pixels, you can see a sample below\n",
        "\n",
        "<img src='https://github.com/OOyindamola/deep-learning-v2-pytorch/blob/master/intro-to-pytorch/assets/mnist.png?raw=1'>\n",
        "\n",
        "Our goal is to build a neural network that can take one of these images and predict the digit in the image.\n",
        "\n",
        "First up, we need to get our dataset. This is provided through the `torchvision` package. The code below will download the MNIST dataset, then create training and test datasets for us. Don't worry too much about the details here, you'll learn more about this later."
      ]
    },
    {
      "cell_type": "code",
      "metadata": {
        "id": "9wc-u2juGpvR",
        "colab_type": "code",
        "colab": {}
      },
      "source": [
        "### Run this cell\n",
        "\n",
        "from torchvision import datasets, transforms\n",
        "\n",
        "# Define a transform to normalize the data\n",
        "transform = transforms.Compose([transforms.ToTensor(),\n",
        "                              transforms.Normalize((0.5,), (0.5,)),\n",
        "                              ])\n",
        "\n",
        "# Download and load the training data\n",
        "trainset = datasets.MNIST('~/.pytorch/MNIST_data/', download=True, train=True, transform=transform)\n",
        "trainloader = torch.utils.data.DataLoader(trainset, batch_size=64, shuffle=True)"
      ],
      "execution_count": 0,
      "outputs": []
    },
    {
      "cell_type": "markdown",
      "metadata": {
        "id": "474RsAb-Gpvd",
        "colab_type": "text"
      },
      "source": [
        "We have the training data loaded into `trainloader` and we make that an iterator with `iter(trainloader)`. Later, we'll use this to loop through the dataset for training, like\n",
        "\n",
        "```python\n",
        "for image, label in trainloader:\n",
        "    ## do things with images and labels\n",
        "```\n",
        "\n",
        "You'll notice I created the `trainloader` with a batch size of 64, and `shuffle=True`. The batch size is the number of images we get in one iteration from the data loader and pass through our network, often called a *batch*. And `shuffle=True` tells it to shuffle the dataset every time we start going through the data loader again. But here I'm just grabbing the first batch so we can check out the data. We can see below that `images` is just a tensor with size `(64, 1, 28, 28)`. So, 64 images per batch, 1 color channel, and 28x28 images."
      ]
    },
    {
      "cell_type": "code",
      "metadata": {
        "id": "HAx_EidEGpvh",
        "colab_type": "code",
        "colab": {
          "base_uri": "https://localhost:8080/",
          "height": 69
        },
        "outputId": "d5f9b1bb-37f4-4939-9009-4dcff302beec"
      },
      "source": [
        "dataiter = iter(trainloader)\n",
        "images, labels = dataiter.next()\n",
        "print(type(dataiter.next()))\n",
        "print(images.shape)\n",
        "print(labels.shape)"
      ],
      "execution_count": 36,
      "outputs": [
        {
          "output_type": "stream",
          "text": [
            "<class 'list'>\n",
            "torch.Size([64, 1, 28, 28])\n",
            "torch.Size([64])\n"
          ],
          "name": "stdout"
        }
      ]
    },
    {
      "cell_type": "markdown",
      "metadata": {
        "id": "WDAwZQsqGpvs",
        "colab_type": "text"
      },
      "source": [
        "This is what one of the images looks like. "
      ]
    },
    {
      "cell_type": "code",
      "metadata": {
        "id": "K9FgXMk_Gpvv",
        "colab_type": "code",
        "colab": {
          "base_uri": "https://localhost:8080/",
          "height": 282
        },
        "outputId": "9c26b291-c5c6-427b-d39b-f82ff0ff902d"
      },
      "source": [
        "plt.imshow(images[1].numpy().squeeze(), cmap='Greys_r');\n",
        "print(labels[1])"
      ],
      "execution_count": 15,
      "outputs": [
        {
          "output_type": "stream",
          "text": [
            "tensor(2)\n"
          ],
          "name": "stdout"
        },
        {
          "output_type": "display_data",
          "data": {
            "image/png": "[encoded data removed]",
            "text/plain": [
              "<Figure size 432x288 with 1 Axes>"
            ]
          },
          "metadata": {
            "tags": [],
            "image/png": {
              "width": 251,
              "height": 248
            }
          }
        }
      ]
    },
    {
      "cell_type": "markdown",
      "metadata": {
        "id": "MSjrjpyZGpwA",
        "colab_type": "text"
      },
      "source": [
        "First, let's try to build a simple network for this dataset using weight matrices and matrix multiplications. Then, we'll see how to do it using PyTorch's `nn` module which provides a much more convenient and powerful method for defining network architectures.\n",
        "\n",
        "The networks you've seen so far are called *fully-connected* or *dense* networks. Each unit in one layer is connected to each unit in the next layer. In fully-connected networks, the input to each layer must be a one-dimensional vector (which can be stacked into a 2D tensor as a batch of multiple examples). However, our images are 28x28 2D tensors, so we need to convert them into 1D vectors. Thinking about sizes, we need to convert the batch of images with shape `(64, 1, 28, 28)` to a have a shape of `(64, 784)`, 784 is 28 times 28. This is typically called *flattening*, we flattened the 2D images into 1D vectors.\n",
        "\n",
        "Previously you built a network with one output unit. Here we need 10 output units, one for each digit. We want our network to predict the digit shown in an image, so what we'll do is calculate probabilities that the image is of any one digit or class. This ends up being a discrete probability distribution over the classes (digits) that tells us the most likely class for the image. That means we need 10 output units for the 10 classes (digits). We'll see how to convert the network output into a probability distribution next.\n",
        "\n",
        "> **Exercise:** Flatten the batch of images `images`. Then build a multi-layer network with 784 input units, 256 hidden units, and 10 output units using random tensors for the weights and biases. For now, use a sigmoid activation for the hidden layer. Leave the output layer without an activation, we'll add one that gives us a probability distribution next."
      ]
    },
    {
      "cell_type": "code",
      "metadata": {
        "id": "uqKlq740GpwC",
        "colab_type": "code",
        "colab": {
          "base_uri": "https://localhost:8080/",
          "height": 1000
        },
        "outputId": "fbf6ddd8-b7cc-4283-88b0-9b8226d827fd"
      },
      "source": [
        "## Your solution\n",
        "def activation(x):\n",
        "  return 1/(1+ torch.exp(-x))\n",
        "\n",
        "\n",
        "W1 = torch.randn(784, 256)\n",
        "b1 = torch.randn(256)\n",
        "\n",
        "W2 = torch.randn(256,10)\n",
        "b2 = torch.randn(10)\n",
        "\n",
        "inputs = images.view(images.shape[0], -1)\n",
        "\n",
        "h1 = activation(torch.mm(inputs, W1) + b1)\n",
        "out = torch.mm(h1, W2) +b2\n",
        "out# output of your network, should have shape (64,10)"
      ],
      "execution_count": 22,
      "outputs": [
        {
          "output_type": "execute_result",
          "data": {
            "text/plain": [
              "tensor([[-1.9419e+01, -9.4559e+00, -2.8954e+01, -1.1957e+01,  3.1744e+00,\n",
              "         -1.7581e+00,  8.8331e+00, -6.8169e+00, -2.2252e+01,  8.0456e+00],\n",
              "        [-1.4819e+01, -4.7086e+00, -2.5270e+01, -4.4747e+00, -1.5607e+00,\n",
              "         -2.8569e+00, -1.3581e+00,  4.0027e-01, -2.2094e+01,  4.0093e+00],\n",
              "        [-9.3090e+00, -8.7110e+00, -4.0442e+01, -8.0801e+00, -8.8888e+00,\n",
              "         -1.2061e+00, -4.9857e+00,  6.3283e+00, -2.3373e+01,  7.5469e-01],\n",
              "        [-2.1795e+01, -5.5594e+00, -2.7277e+01, -7.7653e+00, -8.2552e-01,\n",
              "          3.1286e+00,  5.2633e+00, -2.3019e+00, -1.7428e+01,  2.9896e+00],\n",
              "        [-1.2748e+01, -6.9968e+00, -2.8485e+01, -1.0613e+01, -1.3825e+00,\n",
              "         -1.3292e-01,  4.6889e+00, -8.2448e+00, -1.7780e+01,  1.8212e+00],\n",
              "        [-1.8977e+01, -2.3655e-01, -2.9466e+01, -7.1749e+00, -9.5446e+00,\n",
              "          6.3526e+00,  6.0627e+00, -5.9952e+00, -2.0824e+01,  5.3394e+00],\n",
              "        [-7.6777e+00, -1.0285e+01, -2.8121e+01, -1.4382e-01,  4.5627e+00,\n",
              "          5.8999e+00, -1.2954e+01,  7.8732e+00, -1.9390e+01,  4.6056e-02],\n",
              "        [-9.7037e+00, -4.2558e+00, -2.9752e+01, -1.8229e+01, -2.6816e+00,\n",
              "         -6.1498e-01, -4.0454e+00, -1.3483e+00, -1.1082e+01,  8.0186e+00],\n",
              "        [ 4.7945e+00, -2.3109e+00, -4.3856e+01, -1.1387e+01, -1.7162e+00,\n",
              "         -1.6592e+00,  3.9077e+00, -2.0947e+00, -8.7435e+00,  9.1260e+00],\n",
              "        [-7.1195e+00, -1.0686e+01, -3.3721e+01, -2.7273e+00, -2.3923e+00,\n",
              "         -8.9831e-01, -4.2703e+00, -1.7117e+00, -1.2825e+01, -3.4477e+00],\n",
              "        [-1.6578e+01, -1.3562e+01, -1.9155e+01, -7.2714e+00,  9.0512e-01,\n",
              "          1.5338e+01,  4.2652e+00, -5.3931e+00, -2.1606e+01,  3.2874e+00],\n",
              "        [-1.7540e+01, -1.0360e+01, -3.1100e+01,  1.5312e+00, -1.7622e+00,\n",
              "         -4.5734e-02, -1.7469e+00, -2.3169e+00, -2.1930e+01,  4.3545e+00],\n",
              "        [-8.3896e+00, -2.0271e+01, -2.5815e+01, -3.1276e+00, -1.4806e+00,\n",
              "         -4.8646e+00, -4.8115e+00, -1.9469e-01, -1.7656e+01,  6.8993e+00],\n",
              "        [-4.5139e+00, -1.0310e+01, -2.8977e+01, -6.1061e+00, -6.3127e+00,\n",
              "          3.5307e+00, -5.5876e+00,  4.6430e+00, -1.6468e+01,  5.2379e+00],\n",
              "        [-1.0049e+01, -9.1926e+00, -2.3427e+01,  1.5146e+00, -5.9558e+00,\n",
              "         -2.4423e+00, -1.0070e+01,  3.4425e+00, -1.8115e+01, -1.3419e+00],\n",
              "        [-1.1480e+01, -3.5285e+00, -2.7457e+01, -4.7934e+00, -8.7589e+00,\n",
              "          5.4216e+00,  5.1913e+00, -3.5089e+00, -1.5203e+01, -2.8741e+00],\n",
              "        [-1.5393e+01, -8.1248e+00, -2.1783e+01, -6.9229e+00, -5.8606e+00,\n",
              "          6.9956e+00, -9.5310e-01,  3.6572e+00, -1.6414e+01,  1.0438e+01],\n",
              "        [-4.7596e+00, -1.0864e+01, -2.5322e+01, -2.7755e+00,  1.8465e+00,\n",
              "          5.5870e+00,  1.2263e+00,  1.9978e-01, -1.7379e+01,  2.8516e+00],\n",
              "        [-7.8301e+00, -3.2237e+00, -2.2990e+01, -3.6569e+00, -9.0620e+00,\n",
              "         -4.0184e+00,  8.2567e+00,  3.7956e+00, -1.2459e+01,  1.1319e+00],\n",
              "        [-4.2984e+00, -4.3560e+00, -2.8285e+01, -8.0668e+00, -5.4489e+00,\n",
              "         -2.0692e+00, -3.4189e+00, -1.1986e+00, -3.2881e+00,  7.6388e+00],\n",
              "        [-7.1455e+00, -1.2292e+01, -1.6052e+01,  6.6311e+00, -1.7818e+00,\n",
              "         -1.6976e+00,  3.3519e+00, -3.7945e+00, -1.2588e+01,  1.2346e+00],\n",
              "        [-1.5877e+01, -9.9293e+00, -2.8293e+01, -2.3433e+00, -4.6241e+00,\n",
              "         -5.9578e+00,  6.6276e+00,  7.1053e+00, -1.1948e+01,  2.0023e+00],\n",
              "        [-1.7511e+01, -5.9176e+00, -2.3074e+01,  3.4693e+00, -1.0966e+01,\n",
              "          4.4267e+00, -2.0073e+00,  4.8976e-01, -1.8087e+01, -2.3656e+00],\n",
              "        [-1.4994e+01, -1.6805e+01, -2.7535e+01, -1.1656e+01, -2.6786e+00,\n",
              "         -2.7208e+00,  4.2276e+00,  1.5088e+00, -1.9148e+01,  5.6358e+00],\n",
              "        [-4.1021e+00, -8.2613e+00, -2.1193e+01, -2.1140e+00, -3.9127e+00,\n",
              "          5.6461e+00, -7.0695e+00,  2.3392e+00, -2.2564e+01, -6.3607e+00],\n",
              "        [-1.3858e+01, -8.4942e+00, -2.7800e+01, -5.4328e+00, -5.9834e+00,\n",
              "          2.9158e+00, -4.4658e+00,  4.6056e+00, -2.1553e+01,  4.4456e+00],\n",
              "        [-1.0510e+01, -8.0218e+00, -2.7516e+01, -1.5171e+01,  1.6575e+00,\n",
              "          5.1460e+00,  1.2355e+01,  3.9095e+00, -3.1998e+01, -5.1249e+00],\n",
              "        [-1.3770e+01, -3.1354e+00, -2.7754e+01, -7.9280e+00, -6.2745e+00,\n",
              "          1.0779e+01, -4.3565e+00, -7.0012e+00, -1.3106e+01,  6.5988e+00],\n",
              "        [-4.4541e+00, -7.1872e-01, -2.1195e+01, -3.9031e+00,  6.3672e+00,\n",
              "          7.9713e+00, -3.9017e-01,  6.5201e+00, -1.9976e+01, -1.7325e+00],\n",
              "        [-1.1876e+01,  1.6079e+00, -1.7000e+01, -2.9056e+00, -4.1057e+00,\n",
              "          3.2485e+00,  6.3160e+00, -4.6692e-01, -1.4501e+01,  1.4586e+00],\n",
              "        [-9.4040e+00, -8.3317e+00, -3.4445e+01, -1.7911e-01, -1.2825e+00,\n",
              "          4.2030e+00, -2.8498e+00,  5.9277e-01, -1.4126e+01, -7.0892e-01],\n",
              "        [-2.0829e+01, -6.1898e+00, -2.2558e+01, -5.4542e+00,  4.5360e-01,\n",
              "         -6.6280e+00,  7.3209e+00, -3.2160e-01, -1.8812e+01, -3.0718e+00],\n",
              "        [-1.2941e+01, -5.7001e+00, -2.5406e+01, -2.2591e+00, -9.2638e+00,\n",
              "          6.5612e+00, -1.0750e+01,  2.0060e+00, -1.2572e+01,  6.3653e+00],\n",
              "        [-8.8225e+00, -1.2067e+01, -2.1546e+01,  4.0315e+00, -7.4140e+00,\n",
              "          3.4421e+00, -8.6496e+00,  5.1819e+00, -1.2585e+01,  6.0806e+00],\n",
              "        [-6.7383e+00, -1.2805e+01, -2.2161e+01,  7.0129e+00, -3.2576e-01,\n",
              "          8.0651e-02, -5.3939e+00,  7.6040e+00, -7.3854e+00,  6.4602e+00],\n",
              "        [-1.1969e+01, -5.4202e+00, -1.8693e+01,  5.0216e-01, -2.4220e+00,\n",
              "          7.3058e+00,  4.9032e+00,  2.8347e+00, -1.8106e+01, -3.6136e+00],\n",
              "        [-1.4396e+01, -1.2105e+01, -2.5676e+01, -7.2636e+00,  3.0550e+00,\n",
              "          8.8058e-01, -2.5215e+00, -8.0018e+00, -2.5814e+01, -3.9164e+00],\n",
              "        [-1.6000e+01, -5.0149e+00, -2.7441e+01,  3.6885e+00,  4.2567e+00,\n",
              "          1.9956e-01,  6.4516e+00,  3.7266e+00, -9.3927e+00,  4.5712e-03],\n",
              "        [-1.0271e+01, -1.0433e+01, -2.6440e+01, -1.3885e+01, -1.7973e+00,\n",
              "          5.6946e+00,  7.3066e+00,  9.0218e-01, -2.3400e+01, -1.0849e+01],\n",
              "        [-1.9841e+01, -1.9570e+00, -1.6319e+01, -2.2231e+00,  3.7497e+00,\n",
              "          8.3317e+00,  2.4898e+00,  1.6033e+00, -2.6102e+01,  3.8723e+00],\n",
              "        [-8.3432e+00, -6.7845e+00, -2.9720e+01, -6.4361e+00, -1.5073e+00,\n",
              "          1.1086e+01, -2.7548e+00,  4.8456e+00, -1.3673e+01,  3.3531e+00],\n",
              "        [-2.1039e+01, -1.0626e+01, -2.2243e+01, -5.5820e-02, -4.3886e+00,\n",
              "          2.1445e-01,  4.8481e+00, -1.5183e-01, -1.9180e+01,  1.4056e+01],\n",
              "        [-1.1381e+01, -5.9510e+00, -2.0706e+01, -4.4862e+00,  5.9103e+00,\n",
              "          1.5666e+00,  2.4854e+00,  4.8694e+00, -1.6139e+01,  4.2929e+00],\n",
              "        [-1.6144e+01, -1.1155e+00, -2.2640e+01, -7.8550e+00,  7.5683e+00,\n",
              "          2.9126e-01,  4.4616e+00, -1.1397e+01, -1.6704e+01,  2.5254e+00],\n",
              "        [-1.5019e+01, -2.0296e+00, -2.6917e+01, -1.1377e+01, -6.6456e+00,\n",
              "          1.6169e+00, -3.4170e+00, -1.5151e+00, -2.0440e+01, -6.1039e+00],\n",
              "        [-6.7703e+00, -5.4013e+00, -2.5420e+01, -1.0023e+01, -1.7812e+00,\n",
              "          5.0068e+00,  2.6043e+00,  3.8607e+00, -1.4828e+01,  3.4538e+00],\n",
              "        [-4.9392e+00, -6.1680e+00, -2.2190e+01, -9.2950e-01, -7.9685e+00,\n",
              "          5.3568e-01,  6.4405e+00,  5.0223e-01, -1.3467e+01, -3.6992e+00],\n",
              "        [-7.1293e+00, -4.1352e+00, -1.9644e+01,  1.6744e+00,  5.2322e+00,\n",
              "          1.0390e+01, -3.1982e+00,  4.4865e+00, -1.4598e+01,  2.8786e+00],\n",
              "        [-1.3476e+01, -6.0549e+00, -2.3168e+01, -4.2406e+00,  1.8193e-01,\n",
              "          5.4170e+00, -7.2403e+00,  2.9287e+00, -1.1576e+01,  9.7813e+00],\n",
              "        [-6.8813e+00, -1.7902e+00, -2.3730e+01, -7.0047e+00, -7.5844e+00,\n",
              "          4.5587e+00, -7.1821e+00,  7.5829e+00, -1.5356e+01, -1.7007e+00],\n",
              "        [-4.8141e+00, -1.2183e+01, -2.5202e+01, -1.5819e+00, -2.6698e+00,\n",
              "         -4.0410e+00,  2.4846e+00, -5.3830e+00, -1.6547e+01,  2.0832e+00],\n",
              "        [-1.1943e+01, -2.6232e+00, -1.9819e+01,  8.0736e+00, -5.2268e+00,\n",
              "          3.8285e+00, -1.6903e+00,  8.6158e+00, -1.6100e+01, -1.8070e-01],\n",
              "        [-1.5479e+01, -2.5911e+00, -3.0009e+01, -7.9010e+00, -7.2728e-01,\n",
              "         -2.0898e+00,  1.5175e-01,  1.0625e+00, -2.0391e+01, -1.6754e+00],\n",
              "        [-1.9991e+01, -2.3954e+00, -2.2815e+01, -6.6483e+00,  1.1161e+00,\n",
              "          1.9183e+00,  1.0903e+01,  2.4059e+00, -2.2657e+01, -2.6695e+00],\n",
              "        [-1.8210e+01, -6.2251e+00, -2.2989e+01,  1.0418e+00,  2.8630e+00,\n",
              "          4.3627e+00,  3.4005e+00, -3.3307e-01, -1.6224e+01, -3.6013e+00],\n",
              "        [-1.8248e+01, -1.4672e+01, -2.5280e+01, -1.4387e+00, -2.6934e-01,\n",
              "         -1.7930e+00,  4.9136e+00, -6.9755e-01, -1.0687e+01,  2.0310e+00],\n",
              "        [-9.6968e+00, -3.7222e+00, -3.0390e+01, -3.7372e-01,  1.8575e+00,\n",
              "          1.3501e+00,  1.4041e+00,  6.1156e+00, -1.3345e+01,  2.5119e+00],\n",
              "        [-9.7566e+00,  3.5141e+00, -1.6906e+01, -5.5084e+00, -3.0073e+00,\n",
              "          1.9448e+00, -1.3755e+00,  2.5121e+00, -1.2169e+01, -3.1548e+00],\n",
              "        [-7.5740e+00, -3.2570e+00, -2.8413e+01, -8.2822e+00, -3.8084e+00,\n",
              "          9.6355e-01,  2.1245e+00, -7.1134e+00, -1.0206e+01,  8.0858e+00],\n",
              "        [-8.5994e+00, -8.1533e+00, -1.7722e+01, -1.2165e+01, -3.8385e+00,\n",
              "          8.0192e+00, -2.4073e+00, -3.6708e+00, -1.6973e+01,  6.2375e+00],\n",
              "        [-1.4655e+01, -6.3271e+00, -3.1181e+01, -4.1625e+00,  6.7409e+00,\n",
              "         -1.9651e+00, -4.4592e+00, -2.2718e-02, -1.0679e+01,  1.3959e+00],\n",
              "        [-2.0479e+01, -6.0156e+00, -2.1586e+01, -1.4911e+01,  9.4325e+00,\n",
              "         -1.3777e+00,  6.9798e+00, -8.4395e+00, -2.2864e+01,  4.7665e-01],\n",
              "        [-5.3048e+00, -2.6388e+00, -2.3370e+01, -8.3110e+00, -3.9830e-01,\n",
              "          1.0079e+00,  6.5415e+00,  2.9734e+00, -1.6161e+01, -3.9779e+00],\n",
              "        [-8.7063e+00, -1.0123e+01, -1.7032e+01,  7.4183e+00, -4.5502e+00,\n",
              "          5.8426e+00,  2.7292e+00,  4.1427e-01, -1.3398e+01,  2.8995e+00]])"
            ]
          },
          "metadata": {
            "tags": []
          },
          "execution_count": 22
        }
      ]
    },
    {
      "cell_type": "markdown",
      "metadata": {
        "id": "ZdTey8FcGpwK",
        "colab_type": "text"
      },
      "source": [
        "Now we have 10 outputs for our network. We want to pass in an image to our network and get out a probability distribution over the classes that tells us the likely class(es) the image belongs to. Something that looks like this:\n",
        "<img src='https://github.com/OOyindamola/deep-learning-v2-pytorch/blob/master/intro-to-pytorch/assets/image_distribution.png?raw=1' width=500px>\n",
        "\n",
        "Here we see that the probability for each class is roughly the same. This is representing an untrained network, it hasn't seen any data yet so it just returns a uniform distribution with equal probabilities for each class.\n",
        "\n",
        "To calculate this probability distribution, we often use the [**softmax** function](https://en.wikipedia.org/wiki/Softmax_function). Mathematically this looks like\n",
        "\n",
        "$$\n",
        "\\Large \\sigma(x_i) = \\cfrac{e^{x_i}}{\\sum_k^K{e^{x_k}}}\n",
        "$$\n",
        "\n",
        "What this does is squish each input $x_i$ between 0 and 1 and normalizes the values to give you a proper probability distribution where the probabilites sum up to one.\n",
        "\n",
        "> **Exercise:** Implement a function `softmax` that performs the softmax calculation and returns probability distributions for each example in the batch. Note that you'll need to pay attention to the shapes when doing this. If you have a tensor `a` with shape `(64, 10)` and a tensor `b` with shape `(64,)`, doing `a/b` will give you an error because PyTorch will try to do the division across the columns (called broadcasting) but you'll get a size mismatch. The way to think about this is for each of the 64 examples, you only want to divide by one value, the sum in the denominator. So you need `b` to have a shape of `(64, 1)`. This way PyTorch will divide the 10 values in each row of `a` by the one value in each row of `b`. Pay attention to how you take the sum as well. You'll need to define the `dim` keyword in `torch.sum`. Setting `dim=0` takes the sum across the rows while `dim=1` takes the sum across the columns."
      ]
    },
    {
      "cell_type": "code",
      "metadata": {
        "id": "-kMkohsiLD21",
        "colab_type": "code",
        "colab": {}
      },
      "source": [
        ""
      ],
      "execution_count": 0,
      "outputs": []
    },
    {
      "cell_type": "code",
      "metadata": {
        "id": "0wAtAUWUGpwO",
        "colab_type": "code",
        "colab": {
          "base_uri": "https://localhost:8080/",
          "height": 173
        },
        "outputId": "b7c62387-1aea-4eb3-ee02-908da6a5ce31"
      },
      "source": [
        "def softmax(x):\n",
        "    ## TODO: Implement the softmax function here\n",
        "    return torch.exp(x)/torch.sum(torch.exp(x), dim=1).view(-1,1)\n",
        "\n",
        "# Here, out should be the output of the network in the previous excercise with shape (64,10)\n",
        "probabilities = softmax(out)\n",
        "\n",
        "# Does it have the right shape? Should be (64, 10)\n",
        "print(probabilities.shape)\n",
        "# Does it sum to 1?\n",
        "print(probabilities.sum(dim=1))"
      ],
      "execution_count": 31,
      "outputs": [
        {
          "output_type": "stream",
          "text": [
            "torch.Size([64, 10])\n",
            "tensor([1.0000, 1.0000, 1.0000, 1.0000, 1.0000, 1.0000, 1.0000, 1.0000, 1.0000,\n",
            "        1.0000, 1.0000, 1.0000, 1.0000, 1.0000, 1.0000, 1.0000, 1.0000, 1.0000,\n",
            "        1.0000, 1.0000, 1.0000, 1.0000, 1.0000, 1.0000, 1.0000, 1.0000, 1.0000,\n",
            "        1.0000, 1.0000, 1.0000, 1.0000, 1.0000, 1.0000, 1.0000, 1.0000, 1.0000,\n",
            "        1.0000, 1.0000, 1.0000, 1.0000, 1.0000, 1.0000, 1.0000, 1.0000, 1.0000,\n",
            "        1.0000, 1.0000, 1.0000, 1.0000, 1.0000, 1.0000, 1.0000, 1.0000, 1.0000,\n",
            "        1.0000, 1.0000, 1.0000, 1.0000, 1.0000, 1.0000, 1.0000, 1.0000, 1.0000,\n",
            "        1.0000])\n"
          ],
          "name": "stdout"
        }
      ]
    },
    {
      "cell_type": "markdown",
      "metadata": {
        "id": "DyR14I64GpwY",
        "colab_type": "text"
      },
      "source": [
        "## Building networks with PyTorch\n",
        "\n",
        "PyTorch provides a module `nn` that makes building networks much simpler. Here I'll show you how to build the same one as above with 784 inputs, 256 hidden units, 10 output units and a softmax output."
      ]
    },
    {
      "cell_type": "code",
      "metadata": {
        "id": "zsaMz6uRGpwZ",
        "colab_type": "code",
        "colab": {}
      },
      "source": [
        "from torch import nn"
      ],
      "execution_count": 0,
      "outputs": []
    },
    {
      "cell_type": "code",
      "metadata": {
        "id": "JBbJOqEvGpwj",
        "colab_type": "code",
        "colab": {}
      },
      "source": [
        "class Network(nn.Module):\n",
        "    def __init__(self):\n",
        "        super().__init__()\n",
        "        \n",
        "        # Inputs to hidden layer linear transformation\n",
        "        self.hidden = nn.Linear(784, 256)\n",
        "        # Output layer, 10 units - one for each digit\n",
        "        self.output = nn.Linear(256, 10)\n",
        "        \n",
        "        # Define sigmoid activation and softmax output \n",
        "        self.sigmoid = nn.Sigmoid()\n",
        "        self.softmax = nn.Softmax(dim=1)\n",
        "        \n",
        "    def forward(self, x):\n",
        "        # Pass the input tensor through each of our operations\n",
        "        x = self.hidden(x)\n",
        "        x = self.sigmoid(x)\n",
        "        x = self.output(x)\n",
        "        x = self.softmax(x)\n",
        "        \n",
        "        return x"
      ],
      "execution_count": 0,
      "outputs": []
    },
    {
      "cell_type": "markdown",
      "metadata": {
        "id": "vSS4_pv2Gpws",
        "colab_type": "text"
      },
      "source": [
        "Let's go through this bit by bit.\n",
        "\n",
        "```python\n",
        "class Network(nn.Module):\n",
        "```\n",
        "\n",
        "Here we're inheriting from `nn.Module`. Combined with `super().__init__()` this creates a class that tracks the architecture and provides a lot of useful methods and attributes. It is mandatory to inherit from `nn.Module` when you're creating a class for your network. The name of the class itself can be anything.\n",
        "\n",
        "```python\n",
        "self.hidden = nn.Linear(784, 256)\n",
        "```\n",
        "\n",
        "This line creates a module for a linear transformation, $x\\mathbf{W} + b$, with 784 inputs and 256 outputs and assigns it to `self.hidden`. The module automatically creates the weight and bias tensors which we'll use in the `forward` method. You can access the weight and bias tensors once the network (`net`) is created with `net.hidden.weight` and `net.hidden.bias`.\n",
        "\n",
        "```python\n",
        "self.output = nn.Linear(256, 10)\n",
        "```\n",
        "\n",
        "Similarly, this creates another linear transformation with 256 inputs and 10 outputs.\n",
        "\n",
        "```python\n",
        "self.sigmoid = nn.Sigmoid()\n",
        "self.softmax = nn.Softmax(dim=1)\n",
        "```\n",
        "\n",
        "Here I defined operations for the sigmoid activation and softmax output. Setting `dim=1` in `nn.Softmax(dim=1)` calculates softmax across the columns.\n",
        "\n",
        "```python\n",
        "def forward(self, x):\n",
        "```\n",
        "\n",
        "PyTorch networks created with `nn.Module` must have a `forward` method defined. It takes in a tensor `x` and passes it through the operations you defined in the `__init__` method.\n",
        "\n",
        "```python\n",
        "x = self.hidden(x)\n",
        "x = self.sigmoid(x)\n",
        "x = self.output(x)\n",
        "x = self.softmax(x)\n",
        "```\n",
        "\n",
        "Here the input tensor `x` is passed through each operation and reassigned to `x`. We can see that the input tensor goes through the hidden layer, then a sigmoid function, then the output layer, and finally the softmax function. It doesn't matter what you name the variables here, as long as the inputs and outputs of the operations match the network architecture you want to build. The order in which you define things in the `__init__` method doesn't matter, but you'll need to sequence the operations correctly in the `forward` method.\n",
        "\n",
        "Now we can create a `Network` object."
      ]
    },
    {
      "cell_type": "code",
      "metadata": {
        "id": "20ehIbHZGpwv",
        "colab_type": "code",
        "colab": {
          "base_uri": "https://localhost:8080/",
          "height": 121
        },
        "outputId": "c5ea5bae-d6b6-4327-f2ea-ee8e254a33e9"
      },
      "source": [
        "# Create the network and look at it's text representation\n",
        "model = Network()\n",
        "model"
      ],
      "execution_count": 34,
      "outputs": [
        {
          "output_type": "execute_result",
          "data": {
            "text/plain": [
              "Network(\n",
              "  (hidden): Linear(in_features=784, out_features=256, bias=True)\n",
              "  (output): Linear(in_features=256, out_features=10, bias=True)\n",
              "  (sigmoid): Sigmoid()\n",
              "  (softmax): Softmax(dim=1)\n",
              ")"
            ]
          },
          "metadata": {
            "tags": []
          },
          "execution_count": 34
        }
      ]
    },
    {
      "cell_type": "markdown",
      "metadata": {
        "id": "PwboYEs5Gpw2",
        "colab_type": "text"
      },
      "source": [
        "You can define the network somewhat more concisely and clearly using the `torch.nn.functional` module. This is the most common way you'll see networks defined as many operations are simple element-wise functions. We normally import this module as `F`, `import torch.nn.functional as F`."
      ]
    },
    {
      "cell_type": "code",
      "metadata": {
        "id": "z1YvhpcRGpw5",
        "colab_type": "code",
        "colab": {}
      },
      "source": [
        "import torch.nn.functional as F\n",
        "\n",
        "class Network(nn.Module):\n",
        "    def __init__(self):\n",
        "        super().__init__()\n",
        "        # Inputs to hidden layer linear transformation\n",
        "        self.hidden = nn.Linear(784, 256)\n",
        "        # Output layer, 10 units - one for each digit\n",
        "        self.output = nn.Linear(256, 10)\n",
        "        \n",
        "    def forward(self, x):\n",
        "        # Hidden layer with sigmoid activation\n",
        "        x = F.sigmoid(self.hidden(x))\n",
        "        # Output layer with softmax activation\n",
        "        x = F.softmax(self.output(x), dim=1)\n",
        "        \n",
        "        return x"
      ],
      "execution_count": 0,
      "outputs": []
    },
    {
      "cell_type": "markdown",
      "metadata": {
        "id": "ixvl8XqCGpxC",
        "colab_type": "text"
      },
      "source": [
        "### Activation functions\n",
        "\n",
        "So far we've only been looking at the sigmoid activation function, but in general any function can be used as an activation function. The only requirement is that for a network to approximate a non-linear function, the activation functions must be non-linear. Here are a few more examples of common activation functions: Tanh (hyperbolic tangent), and ReLU (rectified linear unit).\n",
        "\n",
        "<img src=\"https://github.com/OOyindamola/deep-learning-v2-pytorch/blob/master/intro-to-pytorch/assets/activation.png?raw=1\" width=700px>\n",
        "\n",
        "In practice, the ReLU function is used almost exclusively as the activation function for hidden layers."
      ]
    },
    {
      "cell_type": "markdown",
      "metadata": {
        "id": "H0oE9yxwGpxF",
        "colab_type": "text"
      },
      "source": [
        "### Your Turn to Build a Network\n",
        "\n",
        "<img src=\"https://github.com/OOyindamola/deep-learning-v2-pytorch/blob/master/intro-to-pytorch/assets/mlp_mnist.png?raw=1\" width=600px>\n",
        "\n",
        "> **Exercise:** Create a network with 784 input units, a hidden layer with 128 units and a ReLU activation, then a hidden layer with 64 units and a ReLU activation, and finally an output layer with a softmax activation as shown above. You can use a ReLU activation with the `nn.ReLU` module or `F.relu` function.\n",
        "\n",
        "It's good practice to name your layers by their type of network, for instance 'fc' to represent a fully-connected layer. As you code your solution, use `fc1`, `fc2`, and `fc3` as your layer names."
      ]
    },
    {
      "cell_type": "code",
      "metadata": {
        "scrolled": true,
        "id": "0pJjxLO2GpxH",
        "colab_type": "code",
        "colab": {
          "base_uri": "https://localhost:8080/",
          "height": 104
        },
        "outputId": "540a02af-0918-4a42-edff-04adc86b5287"
      },
      "source": [
        "## Your solution here\n",
        "class Network(nn.Module):\n",
        "    def __init__(self):\n",
        "        super().__init__()\n",
        "        self.fc1 = nn.Linear(784, 128)\n",
        "        self.fc2 = nn.Linear(128, 64)\n",
        "        self.fc3 = nn.Linear(64, 10)\n",
        "        \n",
        "    def forward(self, x):\n",
        "        x = self.fc1(x)\n",
        "        x = F.relu(x)\n",
        "        x = self.fc2(x)\n",
        "        x = F.relu(x)\n",
        "        x = self.fc3(x)\n",
        "        x = F.softmax(x, dim=1)\n",
        "        \n",
        "        return x\n",
        "\n",
        "model = Network()\n",
        "model\n",
        "\n"
      ],
      "execution_count": 39,
      "outputs": [
        {
          "output_type": "execute_result",
          "data": {
            "text/plain": [
              "Network(\n",
              "  (fc1): Linear(in_features=784, out_features=128, bias=True)\n",
              "  (fc2): Linear(in_features=128, out_features=64, bias=True)\n",
              "  (fc3): Linear(in_features=64, out_features=10, bias=True)\n",
              ")"
            ]
          },
          "metadata": {
            "tags": []
          },
          "execution_count": 39
        }
      ]
    },
    {
      "cell_type": "markdown",
      "metadata": {
        "id": "vyfj05f3GpxP",
        "colab_type": "text"
      },
      "source": [
        "### Initializing weights and biases\n",
        "\n",
        "The weights and such are automatically initialized for you, but it's possible to customize how they are initialized. The weights and biases are tensors attached to the layer you defined, you can get them with `model.fc1.weight` for instance."
      ]
    },
    {
      "cell_type": "code",
      "metadata": {
        "id": "hBys_lUQGpxR",
        "colab_type": "code",
        "colab": {
          "base_uri": "https://localhost:8080/",
          "height": 486
        },
        "outputId": "d051d4e0-8d94-42da-ff36-8f216648eb11"
      },
      "source": [
        "print(model.fc1.weight)\n",
        "print(model.fc1.bias)"
      ],
      "execution_count": 40,
      "outputs": [
        {
          "output_type": "stream",
          "text": [
            "Parameter containing:\n",
            "tensor([[ 0.0345,  0.0026,  0.0096,  ..., -0.0157, -0.0074, -0.0156],\n",
            "        [ 0.0207, -0.0209, -0.0129,  ..., -0.0149,  0.0217,  0.0294],\n",
            "        [-0.0156,  0.0317,  0.0139,  ..., -0.0355, -0.0221, -0.0028],\n",
            "        ...,\n",
            "        [-0.0220,  0.0133, -0.0106,  ...,  0.0301, -0.0007, -0.0331],\n",
            "        [-0.0335, -0.0091, -0.0001,  ...,  0.0187, -0.0060, -0.0207],\n",
            "        [ 0.0044, -0.0070, -0.0251,  ...,  0.0107,  0.0283, -0.0015]],\n",
            "       requires_grad=True)\n",
            "Parameter containing:\n",
            "tensor([-0.0016, -0.0345,  0.0209,  0.0325,  0.0240,  0.0103, -0.0335,  0.0179,\n",
            "         0.0262,  0.0009, -0.0061,  0.0044, -0.0065, -0.0046, -0.0048,  0.0225,\n",
            "         0.0128, -0.0305,  0.0268,  0.0078, -0.0117,  0.0290, -0.0005, -0.0288,\n",
            "        -0.0303,  0.0035,  0.0192,  0.0311,  0.0314, -0.0055, -0.0214,  0.0345,\n",
            "        -0.0243, -0.0194,  0.0018,  0.0136,  0.0317,  0.0329, -0.0102, -0.0331,\n",
            "        -0.0111,  0.0028,  0.0344, -0.0331,  0.0143, -0.0293,  0.0355, -0.0269,\n",
            "        -0.0329, -0.0323,  0.0178,  0.0192, -0.0317,  0.0313, -0.0104,  0.0308,\n",
            "         0.0015, -0.0183, -0.0173,  0.0093, -0.0336,  0.0329, -0.0267,  0.0324,\n",
            "         0.0051, -0.0352,  0.0125, -0.0181,  0.0231,  0.0043, -0.0131,  0.0250,\n",
            "        -0.0280,  0.0002,  0.0294, -0.0146, -0.0342, -0.0323, -0.0344, -0.0299,\n",
            "        -0.0322,  0.0281,  0.0332,  0.0126, -0.0181, -0.0090,  0.0119,  0.0072,\n",
            "        -0.0190, -0.0178,  0.0182, -0.0034, -0.0335,  0.0152, -0.0338,  0.0283,\n",
            "         0.0309, -0.0356, -0.0074, -0.0131,  0.0094, -0.0322,  0.0195, -0.0052,\n",
            "        -0.0351,  0.0354,  0.0317,  0.0157,  0.0115,  0.0320, -0.0046, -0.0313,\n",
            "         0.0021,  0.0178,  0.0291,  0.0250, -0.0091,  0.0097, -0.0356, -0.0277,\n",
            "        -0.0186, -0.0027, -0.0022,  0.0105,  0.0351, -0.0344, -0.0029, -0.0242],\n",
            "       requires_grad=True)\n"
          ],
          "name": "stdout"
        }
      ]
    },
    {
      "cell_type": "markdown",
      "metadata": {
        "id": "vSP64Jq3GpxX",
        "colab_type": "text"
      },
      "source": [
        "For custom initialization, we want to modify these tensors in place. These are actually autograd *Variables*, so we need to get back the actual tensors with `model.fc1.weight.data`. Once we have the tensors, we can fill them with zeros (for biases) or random normal values."
      ]
    },
    {
      "cell_type": "code",
      "metadata": {
        "id": "4kBsLgj7GpxZ",
        "colab_type": "code",
        "colab": {
          "base_uri": "https://localhost:8080/",
          "height": 121
        },
        "outputId": "5667ebe3-aaf6-498d-b3fa-f9a58b449156"
      },
      "source": [
        "# Set biases to all zeros\n",
        "model.fc1.bias.data.fill_(0)"
      ],
      "execution_count": 43,
      "outputs": [
        {
          "output_type": "execute_result",
          "data": {
            "text/plain": [
              "tensor([0., 0., 0., 0., 0., 0., 0., 0., 0., 0., 0., 0., 0., 0., 0., 0., 0., 0., 0., 0., 0., 0., 0., 0.,\n",
              "        0., 0., 0., 0., 0., 0., 0., 0., 0., 0., 0., 0., 0., 0., 0., 0., 0., 0., 0., 0., 0., 0., 0., 0.,\n",
              "        0., 0., 0., 0., 0., 0., 0., 0., 0., 0., 0., 0., 0., 0., 0., 0., 0., 0., 0., 0., 0., 0., 0., 0.,\n",
              "        0., 0., 0., 0., 0., 0., 0., 0., 0., 0., 0., 0., 0., 0., 0., 0., 0., 0., 0., 0., 0., 0., 0., 0.,\n",
              "        0., 0., 0., 0., 0., 0., 0., 0., 0., 0., 0., 0., 0., 0., 0., 0., 0., 0., 0., 0., 0., 0., 0., 0.,\n",
              "        0., 0., 0., 0., 0., 0., 0., 0.])"
            ]
          },
          "metadata": {
            "tags": []
          },
          "execution_count": 43
        }
      ]
    },
    {
      "cell_type": "code",
      "metadata": {
        "id": "dR5E0oLmGpxf",
        "colab_type": "code",
        "colab": {
          "base_uri": "https://localhost:8080/",
          "height": 139
        },
        "outputId": "a5c4f3d5-3e02-493c-a5db-3c87f650c7c0"
      },
      "source": [
        "# sample from random normal with standard dev = 0.01\n",
        "model.fc1.weight.data.normal_(std=0.01)"
      ],
      "execution_count": 44,
      "outputs": [
        {
          "output_type": "execute_result",
          "data": {
            "text/plain": [
              "tensor([[ 0.0028,  0.0012,  0.0015,  ...,  0.0021, -0.0114, -0.0167],\n",
              "        [-0.0002,  0.0059,  0.0039,  ..., -0.0031, -0.0049,  0.0134],\n",
              "        [-0.0076,  0.0045,  0.0156,  ...,  0.0037,  0.0019,  0.0234],\n",
              "        ...,\n",
              "        [ 0.0003,  0.0071,  0.0056,  ...,  0.0155,  0.0151, -0.0085],\n",
              "        [ 0.0084,  0.0086, -0.0163,  ..., -0.0339,  0.0055,  0.0062],\n",
              "        [-0.0025, -0.0043,  0.0058,  ..., -0.0050,  0.0101,  0.0055]])"
            ]
          },
          "metadata": {
            "tags": []
          },
          "execution_count": 44
        }
      ]
    },
    {
      "cell_type": "markdown",
      "metadata": {
        "id": "CMqX5T-pGpxo",
        "colab_type": "text"
      },
      "source": [
        "### Forward pass\n",
        "\n",
        "Now that we have a network, let's see what happens when we pass in an image."
      ]
    },
    {
      "cell_type": "code",
      "metadata": {
        "id": "nXXQMsWGGpxq",
        "colab_type": "code",
        "colab": {
          "base_uri": "https://localhost:8080/",
          "height": 201
        },
        "outputId": "a0970c84-f104-4cc3-8d7e-df8ea1b65d4f"
      },
      "source": [
        "# Grab some data \n",
        "dataiter = iter(trainloader)\n",
        "images, labels = dataiter.next()\n",
        "\n",
        "# Resize images into a 1D vector, new shape is (batch size, color channels, image pixels) \n",
        "images.resize_(64, 1, 784)\n",
        "# or images.resize_(images.shape[0], 1, 784) to automatically get batch size\n",
        "\n",
        "# Forward pass through the network\n",
        "img_idx = 0\n",
        "ps = model.forward(images[img_idx,:])\n",
        "\n",
        "img = images[img_idx]\n",
        "helper.view_classify(img.view(1, 28, 28), ps)"
      ],
      "execution_count": 47,
      "outputs": [
        {
          "output_type": "error",
          "ename": "AttributeError",
          "evalue": "ignored",
          "traceback": [
            "\u001b[0;31m---------------------------------------------------------------------------\u001b[0m",
            "\u001b[0;31mAttributeError\u001b[0m                            Traceback (most recent call last)",
            "\u001b[0;32m<ipython-input-47-07a71317f718>\u001b[0m in \u001b[0;36m<module>\u001b[0;34m()\u001b[0m\n\u001b[1;32m     11\u001b[0m \u001b[0;34m\u001b[0m\u001b[0m\n\u001b[1;32m     12\u001b[0m \u001b[0mimg\u001b[0m \u001b[0;34m=\u001b[0m \u001b[0mimages\u001b[0m\u001b[0;34m[\u001b[0m\u001b[0mimg_idx\u001b[0m\u001b[0;34m]\u001b[0m\u001b[0;34m\u001b[0m\u001b[0;34m\u001b[0m\u001b[0m\n\u001b[0;32m---> 13\u001b[0;31m \u001b[0mhelper\u001b[0m\u001b[0;34m.\u001b[0m\u001b[0mview_classify\u001b[0m\u001b[0;34m(\u001b[0m\u001b[0mimg\u001b[0m\u001b[0;34m.\u001b[0m\u001b[0mview\u001b[0m\u001b[0;34m(\u001b[0m\u001b[0;36m1\u001b[0m\u001b[0;34m,\u001b[0m \u001b[0;36m28\u001b[0m\u001b[0;34m,\u001b[0m \u001b[0;36m28\u001b[0m\u001b[0;34m)\u001b[0m\u001b[0;34m,\u001b[0m \u001b[0mps\u001b[0m\u001b[0;34m)\u001b[0m\u001b[0;34m\u001b[0m\u001b[0;34m\u001b[0m\u001b[0m\n\u001b[0m",
            "\u001b[0;31mAttributeError\u001b[0m: module 'helper' has no attribute 'view_classify'"
          ]
        }
      ]
    },
    {
      "cell_type": "markdown",
      "metadata": {
        "id": "Z_pUo-uMGpxv",
        "colab_type": "text"
      },
      "source": [
        "As you can see above, our network has basically no idea what this digit is. It's because we haven't trained it yet, all the weights are random!\n",
        "\n",
        "### Using `nn.Sequential`\n",
        "\n",
        "PyTorch provides a convenient way to build networks like this where a tensor is passed sequentially through operations, `nn.Sequential` ([documentation](https://pytorch.org/docs/master/nn.html#torch.nn.Sequential)). Using this to build the equivalent network:"
      ]
    },
    {
      "cell_type": "code",
      "metadata": {
        "id": "gSyWGefFGpxx",
        "colab_type": "code",
        "colab": {}
      },
      "source": [
        "# Hyperparameters for our network\n",
        "input_size = 784\n",
        "hidden_sizes = [128, 64]\n",
        "output_size = 10\n",
        "\n",
        "# Build a feed-forward network\n",
        "model = nn.Sequential(nn.Linear(input_size, hidden_sizes[0]),\n",
        "                      nn.ReLU(),\n",
        "                      nn.Linear(hidden_sizes[0], hidden_sizes[1]),\n",
        "                      nn.ReLU(),\n",
        "                      nn.Linear(hidden_sizes[1], output_size),\n",
        "                      nn.Softmax(dim=1))\n",
        "print(model)\n",
        "\n",
        "# Forward pass through the network and display output\n",
        "images, labels = next(iter(trainloader))\n",
        "images.resize_(images.shape[0], 1, 784)\n",
        "ps = model.forward(images[0,:])\n",
        "helper.view_classify(images[0].view(1, 28, 28), ps)"
      ],
      "execution_count": 0,
      "outputs": []
    },
    {
      "cell_type": "markdown",
      "metadata": {
        "id": "8rw0T0DFGpx5",
        "colab_type": "text"
      },
      "source": [
        "Here our model is the same as before: 784 input units, a hidden layer with 128 units, ReLU activation, 64 unit hidden layer, another ReLU, then the output layer with 10 units, and the softmax output.\n",
        "\n",
        "The operations are available by passing in the appropriate index. For example, if you want to get first Linear operation and look at the weights, you'd use `model[0]`."
      ]
    },
    {
      "cell_type": "code",
      "metadata": {
        "id": "7zy4l89DGpx7",
        "colab_type": "code",
        "colab": {}
      },
      "source": [
        "print(model[0])\n",
        "model[0].weight"
      ],
      "execution_count": 0,
      "outputs": []
    },
    {
      "cell_type": "markdown",
      "metadata": {
        "id": "coszm1GzGpyD",
        "colab_type": "text"
      },
      "source": [
        "You can also pass in an `OrderedDict` to name the individual layers and operations, instead of using incremental integers. Note that dictionary keys must be unique, so _each operation must have a different name_."
      ]
    },
    {
      "cell_type": "code",
      "metadata": {
        "id": "GFw9hfLiGpyE",
        "colab_type": "code",
        "colab": {}
      },
      "source": [
        "from collections import OrderedDict\n",
        "model = nn.Sequential(OrderedDict([\n",
        "                      ('fc1', nn.Linear(input_size, hidden_sizes[0])),\n",
        "                      ('relu1', nn.ReLU()),\n",
        "                      ('fc2', nn.Linear(hidden_sizes[0], hidden_sizes[1])),\n",
        "                      ('relu2', nn.ReLU()),\n",
        "                      ('output', nn.Linear(hidden_sizes[1], output_size)),\n",
        "                      ('softmax', nn.Softmax(dim=1))]))\n",
        "model"
      ],
      "execution_count": 0,
      "outputs": []
    },
    {
      "cell_type": "markdown",
      "metadata": {
        "id": "xOfaTOQRGpyI",
        "colab_type": "text"
      },
      "source": [
        "Now you can access layers either by integer or the name"
      ]
    },
    {
      "cell_type": "code",
      "metadata": {
        "id": "yh1YstbAGpyL",
        "colab_type": "code",
        "colab": {}
      },
      "source": [
        "print(model[0])\n",
        "print(model.fc1)"
      ],
      "execution_count": 0,
      "outputs": []
    },
    {
      "cell_type": "markdown",
      "metadata": {
        "id": "w7C1VnNoGpyP",
        "colab_type": "text"
      },
      "source": [
        "In the next notebook, we'll see how we can train a neural network to accuractly predict the numbers appearing in the MNIST images."
      ]
    }
  ]
}